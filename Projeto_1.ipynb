{
  "nbformat": 4,
  "nbformat_minor": 0,
  "metadata": {
    "colab": {
      "name": "Projeto 1",
      "provenance": [],
      "authorship_tag": "ABX9TyMVHYEP079dP9m5oh5XBERF",
      "include_colab_link": true
    },
    "kernelspec": {
      "name": "python3",
      "display_name": "Python 3"
    },
    "language_info": {
      "name": "python"
    }
  },
  "cells": [
    {
      "cell_type": "markdown",
      "metadata": {
        "id": "view-in-github",
        "colab_type": "text"
      },
      "source": [
        "<a href=\"https://colab.research.google.com/github/Feehflork/DIO_Projetos/blob/main/Projeto_1.ipynb\" target=\"_parent\"><img src=\"https://colab.research.google.com/assets/colab-badge.svg\" alt=\"Open In Colab\"/></a>"
      ]
    },
    {
      "cell_type": "code",
      "metadata": {
        "id": "EH-aYSKIzxT3"
      },
      "source": [
        "import pandas as pd"
      ],
      "execution_count": 1,
      "outputs": []
    },
    {
      "cell_type": "code",
      "metadata": {
        "colab": {
          "base_uri": "https://localhost:8080/",
          "height": 419
        },
        "id": "78EvchFUz87w",
        "outputId": "5e67af08-db99-4839-b33a-b05fd90b5cb3"
      },
      "source": [
        "df = pd.read_csv(\"/content/brazil_covid19.csv\")\n",
        "df"
      ],
      "execution_count": 2,
      "outputs": [
        {
          "output_type": "execute_result",
          "data": {
            "text/html": [
              "<div>\n",
              "<style scoped>\n",
              "    .dataframe tbody tr th:only-of-type {\n",
              "        vertical-align: middle;\n",
              "    }\n",
              "\n",
              "    .dataframe tbody tr th {\n",
              "        vertical-align: top;\n",
              "    }\n",
              "\n",
              "    .dataframe thead th {\n",
              "        text-align: right;\n",
              "    }\n",
              "</style>\n",
              "<table border=\"1\" class=\"dataframe\">\n",
              "  <thead>\n",
              "    <tr style=\"text-align: right;\">\n",
              "      <th></th>\n",
              "      <th>date</th>\n",
              "      <th>region</th>\n",
              "      <th>state</th>\n",
              "      <th>cases</th>\n",
              "      <th>deaths</th>\n",
              "    </tr>\n",
              "  </thead>\n",
              "  <tbody>\n",
              "    <tr>\n",
              "      <th>0</th>\n",
              "      <td>2020-02-25</td>\n",
              "      <td>Centro-Oeste</td>\n",
              "      <td>DF</td>\n",
              "      <td>0.0</td>\n",
              "      <td>0</td>\n",
              "    </tr>\n",
              "    <tr>\n",
              "      <th>1</th>\n",
              "      <td>2020-02-25</td>\n",
              "      <td>Centro-Oeste</td>\n",
              "      <td>GO</td>\n",
              "      <td>0.0</td>\n",
              "      <td>0</td>\n",
              "    </tr>\n",
              "    <tr>\n",
              "      <th>2</th>\n",
              "      <td>2020-02-25</td>\n",
              "      <td>Centro-Oeste</td>\n",
              "      <td>MS</td>\n",
              "      <td>0.0</td>\n",
              "      <td>0</td>\n",
              "    </tr>\n",
              "    <tr>\n",
              "      <th>3</th>\n",
              "      <td>2020-02-25</td>\n",
              "      <td>Centro-Oeste</td>\n",
              "      <td>MT</td>\n",
              "      <td>0.0</td>\n",
              "      <td>0</td>\n",
              "    </tr>\n",
              "    <tr>\n",
              "      <th>4</th>\n",
              "      <td>2020-02-25</td>\n",
              "      <td>Nordeste</td>\n",
              "      <td>AL</td>\n",
              "      <td>0.0</td>\n",
              "      <td>0</td>\n",
              "    </tr>\n",
              "    <tr>\n",
              "      <th>...</th>\n",
              "      <td>...</td>\n",
              "      <td>...</td>\n",
              "      <td>...</td>\n",
              "      <td>...</td>\n",
              "      <td>...</td>\n",
              "    </tr>\n",
              "    <tr>\n",
              "      <th>12253</th>\n",
              "      <td>2021-05-23</td>\n",
              "      <td>Sudeste</td>\n",
              "      <td>RJ</td>\n",
              "      <td>840480.0</td>\n",
              "      <td>49515</td>\n",
              "    </tr>\n",
              "    <tr>\n",
              "      <th>12254</th>\n",
              "      <td>2021-05-23</td>\n",
              "      <td>Sudeste</td>\n",
              "      <td>SP</td>\n",
              "      <td>3188105.0</td>\n",
              "      <td>107614</td>\n",
              "    </tr>\n",
              "    <tr>\n",
              "      <th>12255</th>\n",
              "      <td>2021-05-23</td>\n",
              "      <td>Sul</td>\n",
              "      <td>PR</td>\n",
              "      <td>1060683.0</td>\n",
              "      <td>25506</td>\n",
              "    </tr>\n",
              "    <tr>\n",
              "      <th>12256</th>\n",
              "      <td>2021-05-23</td>\n",
              "      <td>Sul</td>\n",
              "      <td>RS</td>\n",
              "      <td>1059990.0</td>\n",
              "      <td>27419</td>\n",
              "    </tr>\n",
              "    <tr>\n",
              "      <th>12257</th>\n",
              "      <td>2021-05-23</td>\n",
              "      <td>Sul</td>\n",
              "      <td>SC</td>\n",
              "      <td>947810.0</td>\n",
              "      <td>14822</td>\n",
              "    </tr>\n",
              "  </tbody>\n",
              "</table>\n",
              "<p>12258 rows × 5 columns</p>\n",
              "</div>"
            ],
            "text/plain": [
              "             date        region state      cases  deaths\n",
              "0      2020-02-25  Centro-Oeste    DF        0.0       0\n",
              "1      2020-02-25  Centro-Oeste    GO        0.0       0\n",
              "2      2020-02-25  Centro-Oeste    MS        0.0       0\n",
              "3      2020-02-25  Centro-Oeste    MT        0.0       0\n",
              "4      2020-02-25      Nordeste    AL        0.0       0\n",
              "...           ...           ...   ...        ...     ...\n",
              "12253  2021-05-23       Sudeste    RJ   840480.0   49515\n",
              "12254  2021-05-23       Sudeste    SP  3188105.0  107614\n",
              "12255  2021-05-23           Sul    PR  1060683.0   25506\n",
              "12256  2021-05-23           Sul    RS  1059990.0   27419\n",
              "12257  2021-05-23           Sul    SC   947810.0   14822\n",
              "\n",
              "[12258 rows x 5 columns]"
            ]
          },
          "metadata": {},
          "execution_count": 2
        }
      ]
    },
    {
      "cell_type": "code",
      "metadata": {
        "id": "xo4vIzOqPq0R"
      },
      "source": [
        "regiao_norte = df.loc[df[\"region\"] == \"Norte\"]"
      ],
      "execution_count": 102,
      "outputs": []
    },
    {
      "cell_type": "code",
      "metadata": {
        "colab": {
          "base_uri": "https://localhost:8080/",
          "height": 204
        },
        "id": "PvUqT2agP89I",
        "outputId": "15d12b30-1d02-4481-99f0-92cb17e2ef9a"
      },
      "source": [
        "regiao_norte.tail()"
      ],
      "execution_count": 103,
      "outputs": [
        {
          "output_type": "execute_result",
          "data": {
            "text/html": [
              "<div>\n",
              "<style scoped>\n",
              "    .dataframe tbody tr th:only-of-type {\n",
              "        vertical-align: middle;\n",
              "    }\n",
              "\n",
              "    .dataframe tbody tr th {\n",
              "        vertical-align: top;\n",
              "    }\n",
              "\n",
              "    .dataframe thead th {\n",
              "        text-align: right;\n",
              "    }\n",
              "</style>\n",
              "<table border=\"1\" class=\"dataframe\">\n",
              "  <thead>\n",
              "    <tr style=\"text-align: right;\">\n",
              "      <th></th>\n",
              "      <th>date</th>\n",
              "      <th>region</th>\n",
              "      <th>state</th>\n",
              "      <th>cases</th>\n",
              "      <th>deaths</th>\n",
              "    </tr>\n",
              "  </thead>\n",
              "  <tbody>\n",
              "    <tr>\n",
              "      <th>12246</th>\n",
              "      <td>2021-05-23</td>\n",
              "      <td>Norte</td>\n",
              "      <td>AP</td>\n",
              "      <td>110403.0</td>\n",
              "      <td>1657</td>\n",
              "    </tr>\n",
              "    <tr>\n",
              "      <th>12247</th>\n",
              "      <td>2021-05-23</td>\n",
              "      <td>Norte</td>\n",
              "      <td>PA</td>\n",
              "      <td>508448.0</td>\n",
              "      <td>14233</td>\n",
              "    </tr>\n",
              "    <tr>\n",
              "      <th>12248</th>\n",
              "      <td>2021-05-23</td>\n",
              "      <td>Norte</td>\n",
              "      <td>RO</td>\n",
              "      <td>225349.0</td>\n",
              "      <td>5611</td>\n",
              "    </tr>\n",
              "    <tr>\n",
              "      <th>12249</th>\n",
              "      <td>2021-05-23</td>\n",
              "      <td>Norte</td>\n",
              "      <td>RR</td>\n",
              "      <td>102019.0</td>\n",
              "      <td>1602</td>\n",
              "    </tr>\n",
              "    <tr>\n",
              "      <th>12250</th>\n",
              "      <td>2021-05-23</td>\n",
              "      <td>Norte</td>\n",
              "      <td>TO</td>\n",
              "      <td>173109.0</td>\n",
              "      <td>2776</td>\n",
              "    </tr>\n",
              "  </tbody>\n",
              "</table>\n",
              "</div>"
            ],
            "text/plain": [
              "             date region state     cases  deaths\n",
              "12246  2021-05-23  Norte    AP  110403.0    1657\n",
              "12247  2021-05-23  Norte    PA  508448.0   14233\n",
              "12248  2021-05-23  Norte    RO  225349.0    5611\n",
              "12249  2021-05-23  Norte    RR  102019.0    1602\n",
              "12250  2021-05-23  Norte    TO  173109.0    2776"
            ]
          },
          "metadata": {},
          "execution_count": 103
        }
      ]
    },
    {
      "cell_type": "code",
      "metadata": {
        "id": "bgQOxecVQBun"
      },
      "source": [
        "norte = regiao_norte"
      ],
      "execution_count": 104,
      "outputs": []
    },
    {
      "cell_type": "code",
      "metadata": {
        "id": "Xl8uzu8UQGoQ"
      },
      "source": [
        "norte_dois = regiao_norte.tail(7)"
      ],
      "execution_count": 110,
      "outputs": []
    },
    {
      "cell_type": "code",
      "metadata": {
        "colab": {
          "base_uri": "https://localhost:8080/",
          "height": 266
        },
        "id": "0h1fTw9NRhdG",
        "outputId": "195b06ae-5a0b-4e30-9335-93e30a7e9f71"
      },
      "source": [
        "norte_dois"
      ],
      "execution_count": 111,
      "outputs": [
        {
          "output_type": "execute_result",
          "data": {
            "text/html": [
              "<div>\n",
              "<style scoped>\n",
              "    .dataframe tbody tr th:only-of-type {\n",
              "        vertical-align: middle;\n",
              "    }\n",
              "\n",
              "    .dataframe tbody tr th {\n",
              "        vertical-align: top;\n",
              "    }\n",
              "\n",
              "    .dataframe thead th {\n",
              "        text-align: right;\n",
              "    }\n",
              "</style>\n",
              "<table border=\"1\" class=\"dataframe\">\n",
              "  <thead>\n",
              "    <tr style=\"text-align: right;\">\n",
              "      <th></th>\n",
              "      <th>date</th>\n",
              "      <th>region</th>\n",
              "      <th>state</th>\n",
              "      <th>cases</th>\n",
              "      <th>deaths</th>\n",
              "    </tr>\n",
              "  </thead>\n",
              "  <tbody>\n",
              "    <tr>\n",
              "      <th>12244</th>\n",
              "      <td>2021-05-23</td>\n",
              "      <td>Norte</td>\n",
              "      <td>AC</td>\n",
              "      <td>81413.0</td>\n",
              "      <td>1635</td>\n",
              "    </tr>\n",
              "    <tr>\n",
              "      <th>12245</th>\n",
              "      <td>2021-05-23</td>\n",
              "      <td>Norte</td>\n",
              "      <td>AM</td>\n",
              "      <td>382487.0</td>\n",
              "      <td>12920</td>\n",
              "    </tr>\n",
              "    <tr>\n",
              "      <th>12246</th>\n",
              "      <td>2021-05-23</td>\n",
              "      <td>Norte</td>\n",
              "      <td>AP</td>\n",
              "      <td>110403.0</td>\n",
              "      <td>1657</td>\n",
              "    </tr>\n",
              "    <tr>\n",
              "      <th>12247</th>\n",
              "      <td>2021-05-23</td>\n",
              "      <td>Norte</td>\n",
              "      <td>PA</td>\n",
              "      <td>508448.0</td>\n",
              "      <td>14233</td>\n",
              "    </tr>\n",
              "    <tr>\n",
              "      <th>12248</th>\n",
              "      <td>2021-05-23</td>\n",
              "      <td>Norte</td>\n",
              "      <td>RO</td>\n",
              "      <td>225349.0</td>\n",
              "      <td>5611</td>\n",
              "    </tr>\n",
              "    <tr>\n",
              "      <th>12249</th>\n",
              "      <td>2021-05-23</td>\n",
              "      <td>Norte</td>\n",
              "      <td>RR</td>\n",
              "      <td>102019.0</td>\n",
              "      <td>1602</td>\n",
              "    </tr>\n",
              "    <tr>\n",
              "      <th>12250</th>\n",
              "      <td>2021-05-23</td>\n",
              "      <td>Norte</td>\n",
              "      <td>TO</td>\n",
              "      <td>173109.0</td>\n",
              "      <td>2776</td>\n",
              "    </tr>\n",
              "  </tbody>\n",
              "</table>\n",
              "</div>"
            ],
            "text/plain": [
              "             date region state     cases  deaths\n",
              "12244  2021-05-23  Norte    AC   81413.0    1635\n",
              "12245  2021-05-23  Norte    AM  382487.0   12920\n",
              "12246  2021-05-23  Norte    AP  110403.0    1657\n",
              "12247  2021-05-23  Norte    PA  508448.0   14233\n",
              "12248  2021-05-23  Norte    RO  225349.0    5611\n",
              "12249  2021-05-23  Norte    RR  102019.0    1602\n",
              "12250  2021-05-23  Norte    TO  173109.0    2776"
            ]
          },
          "metadata": {},
          "execution_count": 111
        }
      ]
    },
    {
      "cell_type": "code",
      "metadata": {
        "id": "FoaqeNw2Rj89"
      },
      "source": [
        "norte_morte = norte_dois[\"deaths\"].sum()\n"
      ],
      "execution_count": 115,
      "outputs": []
    },
    {
      "cell_type": "code",
      "metadata": {
        "colab": {
          "base_uri": "https://localhost:8080/"
        },
        "id": "wikl_FldSFEk",
        "outputId": "6d463167-7427-48ab-d0e5-48c6445e4a1a"
      },
      "source": [
        "norte_morte"
      ],
      "execution_count": 116,
      "outputs": [
        {
          "output_type": "execute_result",
          "data": {
            "text/plain": [
              "40434"
            ]
          },
          "metadata": {},
          "execution_count": 116
        }
      ]
    },
    {
      "cell_type": "code",
      "metadata": {
        "id": "Ft_qCW2wSWIr"
      },
      "source": [
        "regiao_sudeste = df.loc[df[\"region\"] == \"Sudeste\"]"
      ],
      "execution_count": 117,
      "outputs": []
    },
    {
      "cell_type": "code",
      "metadata": {
        "id": "axIGWEoOSZGz"
      },
      "source": [
        "sudeste = regiao_sudeste.tail(4)"
      ],
      "execution_count": 119,
      "outputs": []
    },
    {
      "cell_type": "code",
      "metadata": {
        "id": "21JVN1pISjeK"
      },
      "source": [
        "sudeste_morte = sudeste[\"deaths\"].sum()"
      ],
      "execution_count": 120,
      "outputs": []
    },
    {
      "cell_type": "code",
      "metadata": {
        "colab": {
          "base_uri": "https://localhost:8080/"
        },
        "id": "oiJ8XFAcSndD",
        "outputId": "28ffca26-1a68-444a-abd9-3301a883a537"
      },
      "source": [
        "sudeste_morte"
      ],
      "execution_count": 121,
      "outputs": [
        {
          "output_type": "execute_result",
          "data": {
            "text/plain": [
              "206727"
            ]
          },
          "metadata": {},
          "execution_count": 121
        }
      ]
    },
    {
      "cell_type": "code",
      "metadata": {
        "id": "21iqt-PtSpwh"
      },
      "source": [
        "regiao_nordeste = df.loc[df[\"region\"] == \"Nordeste\"]"
      ],
      "execution_count": 122,
      "outputs": []
    },
    {
      "cell_type": "code",
      "metadata": {
        "id": "dHh1G1paS65C"
      },
      "source": [
        "nordeste = regiao_nordeste.tail(9)"
      ],
      "execution_count": 123,
      "outputs": []
    },
    {
      "cell_type": "code",
      "metadata": {
        "id": "0DiR0luBTDL5"
      },
      "source": [
        "nordeste_morte = nordeste[\"deaths\"].sum()"
      ],
      "execution_count": 124,
      "outputs": []
    },
    {
      "cell_type": "code",
      "metadata": {
        "colab": {
          "base_uri": "https://localhost:8080/"
        },
        "id": "MV1L8kRZTG-y",
        "outputId": "15d4d184-963d-4f55-967a-6f054c549927"
      },
      "source": [
        "nordeste_morte"
      ],
      "execution_count": 125,
      "outputs": [
        {
          "output_type": "execute_result",
          "data": {
            "text/plain": [
              "92173"
            ]
          },
          "metadata": {},
          "execution_count": 125
        }
      ]
    },
    {
      "cell_type": "code",
      "metadata": {
        "id": "kLS5Zra9TKGp"
      },
      "source": [
        "regiao_sul = df.loc[df[\"region\"] == \"Sul\"]"
      ],
      "execution_count": 127,
      "outputs": []
    },
    {
      "cell_type": "code",
      "metadata": {
        "id": "QFu8sSWHTOf5"
      },
      "source": [
        "sul = regiao_sul.tail(3)"
      ],
      "execution_count": 128,
      "outputs": []
    },
    {
      "cell_type": "code",
      "metadata": {
        "id": "xvUQYPq0TcFI"
      },
      "source": [
        "sul_morte = sul[\"deaths\"].sum()"
      ],
      "execution_count": 129,
      "outputs": []
    },
    {
      "cell_type": "code",
      "metadata": {
        "id": "f59dngSbTgbq"
      },
      "source": [
        "Centro_oeste = df.loc[df[\"region\"] == \"Centro-Oeste\"]"
      ],
      "execution_count": 131,
      "outputs": []
    },
    {
      "cell_type": "code",
      "metadata": {
        "id": "e2wSwe-jTpQw"
      },
      "source": [
        "CentroOeste = Centro_oeste.tail(4)\n"
      ],
      "execution_count": 132,
      "outputs": []
    },
    {
      "cell_type": "code",
      "metadata": {
        "id": "tCV-_L5AT0Hx"
      },
      "source": [
        "Centrooeste_morte = CentroOeste[\"deaths\"].sum()"
      ],
      "execution_count": 133,
      "outputs": []
    },
    {
      "cell_type": "code",
      "metadata": {
        "colab": {
          "base_uri": "https://localhost:8080/"
        },
        "id": "knEpq5iBT5JP",
        "outputId": "a4af92bb-f9db-4ede-8cff-17e828185b4f"
      },
      "source": [
        "Centrooeste_morte"
      ],
      "execution_count": 134,
      "outputs": [
        {
          "output_type": "execute_result",
          "data": {
            "text/plain": [
              "41987"
            ]
          },
          "metadata": {},
          "execution_count": 134
        }
      ]
    },
    {
      "cell_type": "code",
      "metadata": {
        "colab": {
          "base_uri": "https://localhost:8080/"
        },
        "id": "vc6YRvLbT6Ew",
        "outputId": "31490ae7-29b9-492c-d136-f2274741b47d"
      },
      "source": [
        "mortes = input(\"Qual região do Brasil você deseja saber o número de mortes: \")\n",
        "if mortes == \"Norte\":\n",
        "    print(\"O número de mortes é: \", norte_morte)\n",
        "elif mortes ==\"Sul\":\n",
        "    print(\"O número de mortes é: \", sul_morte)\n",
        "elif mortes == \"Nordeste\":\n",
        "    print(\"O número de mortes é: \", nordeste_morte)\n",
        "elif mortes == \"sudeste\":\n",
        "    print(\"O número de mortes é: \", sudeste_morte)\n",
        "elif mortes == \"Centro-Oeste\":\n",
        "    print(\"O número de mortes é: \", Centrooeste_morte)\n"
      ],
      "execution_count": 151,
      "outputs": [
        {
          "output_type": "stream",
          "name": "stdout",
          "text": [
            "Qual região do Brasil você deseja saber o número de mortes: sudeste\n",
            "O número de mortes é:  206727\n"
          ]
        }
      ]
    },
    {
      "cell_type": "code",
      "metadata": {
        "id": "fejHvhtpVU0m"
      },
      "source": [
        ""
      ],
      "execution_count": null,
      "outputs": []
    }
  ]
}